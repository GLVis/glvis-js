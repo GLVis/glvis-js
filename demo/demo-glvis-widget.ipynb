{
 "cells": [
  {
   "cell_type": "code",
   "execution_count": null,
   "metadata": {},
   "outputs": [],
   "source": [
    "import glvis_widget as gw"
   ]
  },
  {
   "cell_type": "code",
   "execution_count": null,
   "metadata": {},
   "outputs": [],
   "source": [
    "data = \"\"\"fem2d_gf_data\n",
    "\n",
    "MFEM mesh v1.0\n",
    "\n",
    "dimension\n",
    "2\n",
    "\n",
    "elements\n",
    "1\n",
    "1 3 0 1 2 3\n",
    "\n",
    "boundary\n",
    "4\n",
    "1 1 1 0\n",
    "1 1 2 1\n",
    "1 1 3 2\n",
    "1 1 0 3\n",
    "\n",
    "vertices\n",
    "4\n",
    "\n",
    "nodes\n",
    "FiniteElementSpace\n",
    "FiniteElementCollection: Quadratic\n",
    "VDim: 2\n",
    "Ordering: 0\n",
    "\n",
    "0\n",
    "1\n",
    "1\n",
    "0.1\n",
    "0.5\n",
    "0.9\n",
    "0.5\n",
    "0\n",
    "0.45\n",
    "0\n",
    "0\n",
    "1\n",
    "0.9\n",
    "-0.05\n",
    "0.5\n",
    "1\n",
    "0.5\n",
    "0.55\n",
    "\n",
    "FiniteElementSpace\n",
    "FiniteElementCollection: Quadratic\n",
    "VDim: 1\n",
    "Ordering: 0\n",
    "\n",
    "0\n",
    "0\n",
    "0\n",
    "0\n",
    "0\n",
    "0\n",
    "0\n",
    "0\n",
    "1\n",
    "\"\"\""
   ]
  },
  {
   "cell_type": "code",
   "execution_count": null,
   "metadata": {},
   "outputs": [],
   "source": [
    "gw.GlvisWidget(data)"
   ]
  },
  {
   "cell_type": "code",
   "execution_count": null,
   "metadata": {},
   "outputs": [],
   "source": [
    "gw.GlvisWidget(data)"
   ]
  },
  {
   "cell_type": "code",
   "execution_count": null,
   "metadata": {},
   "outputs": [],
   "source": []
  }
 ],
 "metadata": {
  "kernelspec": {
   "display_name": "Python 3",
   "language": "python",
   "name": "python3"
  },
  "language_info": {
   "codemirror_mode": {
    "name": "ipython",
    "version": 3
   },
   "file_extension": ".py",
   "mimetype": "text/x-python",
   "name": "python",
   "nbconvert_exporter": "python",
   "pygments_lexer": "ipython3",
   "version": "3.6.5"
  }
 },
 "nbformat": 4,
 "nbformat_minor": 2
}
